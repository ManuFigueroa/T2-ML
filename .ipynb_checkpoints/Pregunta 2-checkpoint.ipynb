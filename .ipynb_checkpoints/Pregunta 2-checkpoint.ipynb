{
 "cells": [
  {
   "cell_type": "markdown",
   "metadata": {},
   "source": [
    "# Pregunta 2. Análisis de opiniones sobre películas.\n",
    "a) En primer lugar hay que descargar los datos de la URL asignada y luego se guardan en los archivos train_data2.csv y test_data2.csv. \n",
    "\n",
    "Luego se abren los archivos y se crea un dataframe para los conjuntos de datos de entrenamiento (train) y prueba (test).\n",
    "\n",
    "La primera columna de los sets de datos corresponde al sentimiento (Sentiment). Si es \"-1\", entonces el comentario es negativo. Si es \"+1\" entonces el comentario será positivo. Esto se pudo comprobar leyendo un extracto del dataframe. \n",
    "\n",
    "La segunda columna será el review de la persona con respecto a una película."
   ]
  },
  {
   "cell_type": "code",
   "execution_count": 20,
   "metadata": {
    "collapsed": false,
    "scrolled": true
   },
   "outputs": [
    {
     "name": "stdout",
     "output_type": "stream",
     "text": [
      "(3554, 2)\n",
      "(3554, 2)\n"
     ]
    }
   ],
   "source": [
    "import urllib\n",
    "import pandas as pd\n",
    "\n",
    "'''\n",
    "train_data_url = \"http://www.inf.utfsm.cl/~jnancu/stanford-subset/polarity.train\"\n",
    "test_data_url = \"http://www.inf.utfsm.cl/~jnancu/stanford-subset/polarity.dev\"\n",
    "train_data_f = urllib.urlretrieve(train_data_url, \"train_data2.csv\")\n",
    "test_data_f = urllib.urlretrieve(test_data_url, \"test_data2.csv\")\n",
    "'''\n",
    "\n",
    "\n",
    "ftr = open(\"train_data2.csv\", \"r\")\n",
    "fts = open(\"test_data2.csv\", \"r\")\n",
    "rows = [line.split(\" \",1) for line in ftr.readlines()]\n",
    "train_df = pd.DataFrame(rows, columns=['Sentiment','Text'])\n",
    "train_df['Sentiment'] = pd.to_numeric(train_df['Sentiment'])\n",
    "rows = [line.split(\" \",1) for line in fts.readlines()]\n",
    "test_df = pd.DataFrame(rows, columns=['Sentiment','Text'])\n",
    "test_df['Sentiment'] = pd.to_numeric(test_df['Sentiment'])\n",
    "print train_df.shape\n",
    "print test_df.shape"
   ]
  },
  {
   "cell_type": "markdown",
   "metadata": {},
   "source": [
    "Finalmente, se tiene que tanto el conjunto de entrenamiento como el de pruebas tienen igual cantidad de registros (3554 filas)."
   ]
  },
  {
   "cell_type": "markdown",
   "metadata": {},
   "source": [
    "b) Ahora hay que crear una función que entregue una lista de palabras a partir de un determinado texto. A continuación se muestra el código del enunciado, en el cual realiza lematización. Notar que la función ya incluye su debida transformación a lower-case."
   ]
  },
  {
   "cell_type": "code",
   "execution_count": 21,
   "metadata": {
    "collapsed": false
   },
   "outputs": [
    {
     "name": "stdout",
     "output_type": "stream",
     "text": [
      " love eat cake\n",
      " love eating cake\n",
      " loved eating cake\n",
      " love eating cake\n",
      " n't love eating cake\n"
     ]
    }
   ],
   "source": [
    "import re, time\n",
    "from nltk.corpus import stopwords\n",
    "from nltk import WordNetLemmatizer, word_tokenize\n",
    "from nltk.stem.porter import PorterStemmer\n",
    "from nltk.stem.lancaster import LancasterStemmer\n",
    "\n",
    "def word_extractor_lemmatizer(text, del_stopwords=True):\n",
    "    wordlemmatizer = WordNetLemmatizer()\n",
    "    if del_stopwords == True:\n",
    "        commonwords = stopwords.words('english')\n",
    "    text = re.sub(r'([a-z])\\1+', r'\\1\\1',text)#substitute multiple letter by two\n",
    "    words = \"\"\n",
    "    wordtokens = [ wordlemmatizer.lemmatize(word.lower()) for word in word_tokenize(text.decode('utf-8', 'ignore')) ]\n",
    "    for word in wordtokens:\n",
    "        if del_stopwords==True:\n",
    "            if word not in commonwords:\n",
    "                words+=\" \"+word\n",
    "        else:\n",
    "            words+=\" \"+word\n",
    "    return words\n",
    "\n",
    "print word_extractor_lemmatizer(\"I love to eat cake\")\n",
    "print word_extractor_lemmatizer(\"I love eating cake\")\n",
    "print word_extractor_lemmatizer(\"I loved eating the cake\")\n",
    "print word_extractor_lemmatizer(\"I do not love eating cake\")\n",
    "print word_extractor_lemmatizer(\"I don't love eating cake\")"
   ]
  },
  {
   "cell_type": "markdown",
   "metadata": {},
   "source": [
    "El siguiente código es el modificado que incluye el proceso de stemming."
   ]
  },
  {
   "cell_type": "code",
   "execution_count": 22,
   "metadata": {
    "collapsed": false
   },
   "outputs": [
    {
     "name": "stdout",
     "output_type": "stream",
     "text": [
      " love eat cake\n",
      " love eat cake\n",
      " love eat cake\n",
      " love eat cake\n",
      " n't love eat cake\n"
     ]
    }
   ],
   "source": [
    "def word_extractor(text, del_stopwords=True):\n",
    "    stemmer = PorterStemmer()\n",
    "    if del_stopwords==True:\n",
    "        commonwords = stopwords.words('english')\n",
    "    text = re.sub(r'([a-z])\\1+', r'\\1\\1',text)#substitute multiple letter by two\n",
    "    words = \"\"\n",
    "    wordtokens = [ stemmer.stem(word.lower()) for word in word_tokenize(text.decode('utf-8', 'ignore')) ]\n",
    "    for word in wordtokens:\n",
    "        if del_stopwords==True:\n",
    "            if word not in commonwords:\n",
    "                words+=\" \"+word\n",
    "        else:\n",
    "            words+=\" \"+word\n",
    "    return words\n",
    "\n",
    "print word_extractor(\"I love to eat cake\")\n",
    "print word_extractor(\"I love eating cake\")\n",
    "print word_extractor(\"I loved eating the cake\")\n",
    "print word_extractor(\"I do not love eating cake\")\n",
    "print word_extractor(\"I don't love eating cake\")"
   ]
  },
  {
   "cell_type": "markdown",
   "metadata": {},
   "source": [
    "Se observa una gran diferencia ya que, para la función que incluye lematización, se puede ver a simple vista que solo se eliminaron las stop-words. En cambio, para la función con stemming, las primeras cuatro frases quedan como \"love eat cake\", ya que las palabras \"loved\" y \"eating\" se redujeron a su raiz \"love\" y \"eat\" respectivamente.\n",
    "\n",
    "Probando con otras frases..."
   ]
  },
  {
   "cell_type": "code",
   "execution_count": 4,
   "metadata": {
    "collapsed": false
   },
   "outputs": [
    {
     "name": "stdout",
     "output_type": "stream",
     "text": [
      " 'm play playstat 4 everi week\n",
      " play playstat 4 everi week\n",
      " learn lot machin learn class\n",
      " learn lot machin learn class\n"
     ]
    }
   ],
   "source": [
    "print word_extractor(\"I'm playing PlayStation 4 every week\")\n",
    "print word_extractor(\"I play PlayStation 4 every week\")\n",
    "\n",
    "print word_extractor(\"I learned a lot in the Machine Learning class\")\n",
    "print word_extractor(\"I learn a lot from the Machine Learning classes\")\n"
   ]
  },
  {
   "cell_type": "markdown",
   "metadata": {},
   "source": [
    "En los ejemplos anteriores, se ve que para las dos primeras frases la función trata al nombre propio \"PlayStation\" como una palabra más, y le borra el sufijo \"ion\", quedando \"playstat\". \n",
    "\n",
    "Para las otras dos frases, cada una entrega un mensaje distinto. La primera comunica que el sujeto aprendió harto de la clase de Machine Learning. En la segunda frase, el sujeto informa que aprende harto de las clases de Machine Learning. Aún así, luego del proceso de stemming ambas frases quedan iguales."
   ]
  },
  {
   "cell_type": "markdown",
   "metadata": {},
   "source": [
    "c) La función word_extractor_lemmatizer() trata las palabras por lematización y fue realizada anteriormente. A continuación se muestran los últimos ejemplos anteriores utilizando lematización."
   ]
  },
  {
   "cell_type": "code",
   "execution_count": 5,
   "metadata": {
    "collapsed": false
   },
   "outputs": [
    {
     "name": "stdout",
     "output_type": "stream",
     "text": [
      " 'm playing playstation 4 every week\n",
      " play playstation 4 every week\n",
      " learned lot machine learning class\n",
      " learn lot machine learning class\n"
     ]
    }
   ],
   "source": [
    "print word_extractor_lemmatizer(\"I'm playing PlayStation 4 every week\")\n",
    "print word_extractor_lemmatizer(\"I play PlayStation 4 every week\")\n",
    "\n",
    "print word_extractor_lemmatizer(\"I learned a lot in the Machine Learning class\")\n",
    "print word_extractor_lemmatizer(\"I learn a lot from the Machine Learning classes\")"
   ]
  },
  {
   "cell_type": "markdown",
   "metadata": {},
   "source": [
    "Técnicamente, el proceso de stemming lo que hace es cortar el final de las palabras sin importar el significado de la palabra según el contexto. Lemmatization (o lematización) es un proceso mas complejo, ya que utiliza una búsqueda en un vocabulario y realiza un análisis morfológico de las palabras."
   ]
  },
  {
   "cell_type": "markdown",
   "metadata": {},
   "source": [
    "d) Ahora hay que realizar una representación vectorial de los textos de entrenamiento y pruebas. En primer lugar, los textos se pasan por el proceso de lematización, eliminando también las *stop words*. Luego, se inicializa la función *CountVectorizer* con n=1, de tal forma que cada palabra sumará 1. Esto es útil cuando se suma el total de la presencia de una palabra. Estos vectores quedan guardados en *features_train* y *features_test* para los sets de entrenamiento y prueba respectivamente.\n",
    "\n",
    "Luego se guarda la etiqueta de cada review. Cuando el campo Sentiment es -1 y se suma con 1, queda en 0. Si el mismo campo es 1 y se suma con 1, luego se divide por 2 y queda 1. Entonces, las etiquetas quedarán guardadas como 0 cuando la review es negativa y 1 cuando la review es positiva. Estos datos quedan guardados en las variables *labels_train* y *labels_test*.\n",
    "\n",
    "Luego se guardan las palabras en el vector *vocab*, y su frecuencia de aparición en el vector *dist*. Esto es usado más abajo para determinar cuáles son las palabras mas frecuentes tanto en el set de entrenamiento como en el de prueba."
   ]
  },
  {
   "cell_type": "code",
   "execution_count": 23,
   "metadata": {
    "collapsed": false
   },
   "outputs": [],
   "source": [
    "import numpy as np\n",
    "from sklearn.feature_extraction.text import CountVectorizer\n",
    "def vectorial(modo='lemmatization', del_stopwords=True, print_top10=0):\n",
    "    \n",
    "    if modo=='lemmatization':\n",
    "        if del_stopwords==True:\n",
    "            texts_train = [word_extractor_lemmatizer(text) for text in train_df.Text]\n",
    "            texts_test = [word_extractor_lemmatizer(text) for text in test_df.Text]\n",
    "        else:\n",
    "            texts_train = [word_extractor_lemmatizer(text, False) for text in train_df.Text]\n",
    "            texts_test = [word_extractor_lemmatizer(text, False) for text in test_df.Text]\n",
    "    if modo == 'stemming':\n",
    "        if del_stopwords==True:\n",
    "            texts_train = [word_extractor(text) for text in train_df.Text]\n",
    "            texts_test = [word_extractor(text) for text in test_df.Text]\n",
    "        else:\n",
    "            texts_train = [word_extractor(text, False) for text in train_df.Text]\n",
    "            texts_test = [word_extractor(text, False) for text in test_df.Text]\n",
    "\n",
    "    vectorizer = CountVectorizer(ngram_range=(1, 1), binary='False')\n",
    "    vectorizer.fit(np.asarray(texts_train))\n",
    "    features_train = vectorizer.transform(texts_train)\n",
    "    features_test = vectorizer.transform(texts_test)\n",
    "    labels_train = np.asarray((train_df.Sentiment.astype(float)+1)/2.0)\n",
    "    labels_test = np.asarray((test_df.Sentiment.astype(float)+1)/2.0)\n",
    "\n",
    "    vocab = vectorizer.get_feature_names()\n",
    "    dist_train=list(np.array(features_train.sum(axis=0)).reshape(-1,))\n",
    "    if print_top10 == 1:\n",
    "        rank = []\n",
    "        for tag, count in zip(vocab, dist_train):\n",
    "            rank.append((count, tag))\n",
    "\n",
    "        rank.sort()\n",
    "        rank[:] = rank[::-1]\n",
    "        \n",
    "        print \"MODO:\", modo, \"ELIMINA stopwords:\", del_stopwords, \"\\n\"\n",
    "        \n",
    "        print \"Palabras más frecuentes en el set de entrenamiento\"\n",
    "        for i in range(0,10):\n",
    "            print \"Frecuencia: %d, palabra: %s\"% (rank[i][0], rank[i][1])\n",
    "\n",
    "        vocab = vectorizer.get_feature_names()\n",
    "        dist_test=list(np.array(features_test.sum(axis=0)).reshape(-1,))\n",
    "\n",
    "        rank = []\n",
    "        for tag, count in zip(vocab, dist_test):\n",
    "            rank.append((count, tag))\n",
    "\n",
    "        rank.sort()\n",
    "        rank[:] = rank[::-1]\n",
    "        print \"\\nPalabras más frecuentes en el set de prueba\"\n",
    "        for i in range(0,10):\n",
    "            print \"Frecuencia: %d, palabra: %s\"% (rank[i][0], rank[i][1])\n",
    "    return features_train, labels_train, features_test, labels_test"
   ]
  },
  {
   "cell_type": "code",
   "execution_count": 46,
   "metadata": {
    "collapsed": false
   },
   "outputs": [
    {
     "name": "stdout",
     "output_type": "stream",
     "text": [
      "MODO: lematize ELIMINA stopwords: True \n",
      "\n",
      "Palabras más frecuentes en el set de entrenamiento\n",
      "Frecuencia: 566, palabra: film\n",
      "Frecuencia: 481, palabra: movie\n",
      "Frecuencia: 246, palabra: one\n",
      "Frecuencia: 245, palabra: like\n",
      "Frecuencia: 224, palabra: ha\n",
      "Frecuencia: 183, palabra: make\n",
      "Frecuencia: 176, palabra: story\n",
      "Frecuencia: 163, palabra: character\n",
      "Frecuencia: 145, palabra: comedy\n",
      "Frecuencia: 143, palabra: time\n",
      "\n",
      "Palabras más frecuentes en el set de prueba\n",
      "Frecuencia: 558, palabra: film\n",
      "Frecuencia: 540, palabra: movie\n",
      "Frecuencia: 250, palabra: one\n",
      "Frecuencia: 238, palabra: ha\n",
      "Frecuencia: 230, palabra: like\n",
      "Frecuencia: 197, palabra: story\n",
      "Frecuencia: 175, palabra: character\n",
      "Frecuencia: 165, palabra: time\n",
      "Frecuencia: 161, palabra: make\n",
      "Frecuencia: 134, palabra: comedy\n"
     ]
    }
   ],
   "source": [
    "vectorial(print_top10=1)"
   ]
  },
  {
   "cell_type": "markdown",
   "metadata": {},
   "source": [
    "e) La función *classification_report* de *sklearn* retorna precision, recall y F1 score. Estos indicadores se definen como siguen:\n",
    "* precision: Cantidad de verdaderos positivos dividido por la cantidad de resultados positivos obtenidos (falsos y verdaderos juntos).\n",
    "* recall: Cantidad de verdaderos positivos obtenidos dividido por la cantidad de positivos que se deberían haber obtenido.\n",
    "* F1 score: Corresponde a la media armónica entre precision y recall. Se calcula de la siguiente forma: $F1 Score = 2\\frac{precision * recall}{precison + recall}$"
   ]
  },
  {
   "cell_type": "code",
   "execution_count": 24,
   "metadata": {
    "collapsed": true
   },
   "outputs": [],
   "source": [
    "from sklearn.metrics import classification_report\n",
    "from sklearn.metrics import precision_recall_fscore_support\n",
    "\n",
    "scores_NAIVE = np.zeros(5)\n",
    "scores_MULTI = np.zeros(5)\n",
    "scores_LOGIT = np.zeros(5)\n",
    "scores_SVM = np.zeros(5)\n",
    "\n",
    "def score_the_model(model,x,y,xt,yt,text):\n",
    "    acc_tr = model.score(x,y)\n",
    "    acc_test = model.score(xt[:-1],yt[:-1])\n",
    "    print \"Training Accuracy %s: %f\"%(text,acc_tr)\n",
    "    print \"Test Accuracy %s: %f\"%(text,acc_test)\n",
    "    print \"Detailed Analysis Testing Results ...\"\n",
    "    print(classification_report(yt, model.predict(xt), target_names=['+','-']))\n",
    "    \n",
    "    precision, recall, fscore, support = precision_recall_fscore_support(yt, model.predict(xt))\n",
    "    if text == 'BernoulliNB':\n",
    "        scores_NAIVE[0] = acc_tr\n",
    "        scores_NAIVE[1] = acc_test\n",
    "        scores_NAIVE[2] = np.mean(precision)\n",
    "        scores_NAIVE[3] = np.mean(recall)\n",
    "        scores_NAIVE[4] = np.mean(fscore)\n",
    "    elif text == 'MultinomialNB':\n",
    "        scores_MULTI[0] = acc_tr\n",
    "        scores_MULTI[1] = acc_test\n",
    "        scores_MULTI[2] = np.mean(precision)\n",
    "        scores_MULTI[3] = np.mean(recall)\n",
    "        scores_MULTI[4] = np.mean(fscore)\n",
    "    elif text == 'LOGISTIC':\n",
    "        scores_LOGIT[0] = acc_tr\n",
    "        scores_LOGIT[1] = acc_test\n",
    "        scores_LOGIT[2] = np.mean(precision)\n",
    "        scores_LOGIT[3] = np.mean(recall)\n",
    "        scores_LOGIT[4] = np.mean(fscore)\n",
    "    elif text == 'SVM':\n",
    "        scores_SVM[0] = acc_tr\n",
    "        scores_SVM[1] = acc_test\n",
    "        scores_SVM[2] = np.mean(precision)\n",
    "        scores_SVM[3] = np.mean(recall)\n",
    "        scores_SVM[4] = np.mean(fscore)"
   ]
  },
  {
   "cell_type": "markdown",
   "metadata": {},
   "source": [
    "f) A continuación se muestra el código que realiza el modelo con el algoritmo **Bernoulli naive Bayes** (binario). Se ejecuta la función *vectorial(modo=..., del_stopwords=..., print_top10=...)* de forma que el retorno de la función cargue los datos de features y labels según el tipo de filtro de palabras que se quiera ocupar."
   ]
  },
  {
   "cell_type": "code",
   "execution_count": 25,
   "metadata": {
    "collapsed": false,
    "scrolled": true
   },
   "outputs": [
    {
     "name": "stdout",
     "output_type": "stream",
     "text": [
      "Lemmatization sin stop words\n",
      "\n",
      "Training Accuracy BernoulliNB: 0.958638\n",
      "Test Accuracy BernoulliNB: 0.738531\n",
      "Detailed Analysis Testing Results ...\n",
      "             precision    recall  f1-score   support\n",
      "\n",
      "          +       0.75      0.73      0.74      1803\n",
      "          -       0.73      0.75      0.74      1751\n",
      "\n",
      "avg / total       0.74      0.74      0.74      3554\n",
      "\n",
      "Muestra aleatoria del conjunto de prueba (test), con sus respectivas probabilidades de naive Bayes\n",
      "\n",
      "[ 0.57295076  0.42704924] . . . jones , despite a definitely distinctive screen presence , just isn't able to muster for a movie that , its title notwithstanding , should have been a lot nastier if it wanted to fully capitalize on its lead's specific gifts .\n",
      "\n",
      "[ 0.01580715  0.98419285] a journey through memory , a celebration of living , and a sobering rumination on fatality , classism , and ignorance .\n",
      "\n",
      "[ 0.90973837  0.09026163] at once overly old-fashioned in its sudsy plotting and heavy-handed in its effort to modernize it with encomia to diversity and tolerance .\n",
      "\n",
      "[ 0.93580412  0.06419588] what could have been right at home as a nifty plot line in steven soderbergh's traffic fails to arrive at any satisfying destination .\n",
      "\n",
      "[ 0.12609298  0.87390702] it's consistently funny , in an irresistible junior-high way , and consistently free of any gag that would force you to give it a millisecond of thought .\n",
      "\n",
      "Lemmatization con stop words\n",
      "\n",
      "Training Accuracy BernoulliNB: 0.955262\n",
      "Test Accuracy BernoulliNB: 0.748663\n",
      "Detailed Analysis Testing Results ...\n",
      "             precision    recall  f1-score   support\n",
      "\n",
      "          +       0.76      0.74      0.75      1803\n",
      "          -       0.74      0.76      0.75      1751\n",
      "\n",
      "avg / total       0.75      0.75      0.75      3554\n",
      "\n",
      "Stemming sin stop words\n",
      "\n",
      "Training Accuracy BernoulliNB: 0.942881\n",
      "Test Accuracy BernoulliNB: 0.747819\n",
      "Detailed Analysis Testing Results ...\n",
      "             precision    recall  f1-score   support\n",
      "\n",
      "          +       0.76      0.74      0.75      1803\n",
      "          -       0.74      0.75      0.75      1751\n",
      "\n",
      "avg / total       0.75      0.75      0.75      3554\n",
      "\n",
      "Stemming con stop words\n",
      "\n",
      "Training Accuracy BernoulliNB: 0.938098\n",
      "Test Accuracy BernoulliNB: 0.762173\n",
      "Detailed Analysis Testing Results ...\n",
      "             precision    recall  f1-score   support\n",
      "\n",
      "          +       0.77      0.76      0.77      1803\n",
      "          -       0.76      0.76      0.76      1751\n",
      "\n",
      "avg / total       0.76      0.76      0.76      3554\n",
      "\n"
     ]
    }
   ],
   "source": [
    "from sklearn.naive_bayes import BernoulliNB\n",
    "import random\n",
    "\n",
    "def do_NAIVE_BAYES(x,y,xt,yt):\n",
    "    model = BernoulliNB()\n",
    "    model = model.fit(x, y)\n",
    "    score_the_model(model,x,y,xt,yt,\"BernoulliNB\")\n",
    "    return model\n",
    "\n",
    "print \"Lemmatization sin stop words\\n\"\n",
    "\n",
    "features_train, labels_train, features_test, labels_test = vectorial(modo='lemmatization')\n",
    "model = do_NAIVE_BAYES(features_train, labels_train, features_test, labels_test)\n",
    "print \"Muestra aleatoria del conjunto de prueba (test), con sus respectivas probabilidades de naive Bayes\\n\"\n",
    "test_pred = model.predict_proba(features_test)\n",
    "spl = random.sample(xrange(len(test_pred)), 5)\n",
    "for text, sentiment in zip(test_df.Text[spl], test_pred[spl]):\n",
    "    print sentiment, text\n",
    "\n",
    "print \"Lemmatization con stop words\\n\"\n",
    "\n",
    "features_train, labels_train, features_test, labels_test = vectorial(modo='lemmatization', del_stopwords=False)\n",
    "model = do_NAIVE_BAYES(features_train, labels_train, features_test, labels_test)\n",
    "    \n",
    "print \"Stemming sin stop words\\n\"\n",
    "\n",
    "features_train, labels_train, features_test, labels_test = vectorial(modo='stemming', del_stopwords=True)\n",
    "model = do_NAIVE_BAYES(features_train, labels_train, features_test, labels_test)\n",
    "\n",
    "print \"Stemming con stop words\\n\"\n",
    "\n",
    "features_train, labels_train, features_test, labels_test = vectorial(modo='stemming', del_stopwords=False)\n",
    "model = do_NAIVE_BAYES(features_train, labels_train, features_test, labels_test)\n",
    "\n"
   ]
  },
  {
   "cell_type": "markdown",
   "metadata": {
    "collapsed": true
   },
   "source": [
    "### Como resumen de los resultados anteriores para Bernoulli naive Bayes :\n",
    "\n",
    "|                   | Lemmatization sin stop words | Lemmatization con stop words | Stemming sin stop words | Stemming con stop words |\n",
    "|:-----------------:|:----------------------------:|:----------------------------:|:-----------------------:|:-----------------------:|\n",
    "| Training Accuracy |             0.959            |             0.955            |          0.943          |          0.938          |\n",
    "|  Testing Accuracy |             0.739            |             0.748            |          0.748          |          0.762          |\n",
    "|     Precision     |             0.740            |             0.750            |          0.750          |          0.760          |\n",
    "|       Recall      |             0.740            |             0.750            |          0.750          |          0.760          |\n",
    "|      F1-Score     |             0.740            |             0.750            |          0.750          |          0.760          |"
   ]
  },
  {
   "cell_type": "markdown",
   "metadata": {},
   "source": [
    "Como se puede ver en las métricas obtenidas (precision, recall y F1-score), se puede observar que todos los modelos generados, tanto con lemmatization como con stemming, no difieren mucho entre ellos. Sin embargo, si se observan los ajustes realizados sin stop words, el método de stemming es mejor que el de lemmatization, ya que presenta métricas de precision, recall y F1-score mejores. Aún así, como las métricas de cada modelo no difieren mucho, convendría usar la forma más rápida.\n",
    "\n",
    "Con respecto a los ejemplos aleatorios, se observa que las probabilidades están muy bien repartidas, ya que la mayoría tiene probabilidad > 0.8 para una clase, y probabilidad < 0.2 para la otra clase. Esto no implica que el modelo clasifique correctamente cada uno de los elementos de prueba. Por ejemplo, al momento de escribir este párrafo se encontraron las siguientes clasificaciones:\n",
    "\n",
    "    1. [ 0.55574848  0.44425152] what doesn't this film have that an impressionable kid couldn't stand to hear ?\n",
    "    2. [ 0.56785683  0.43214317] the actresses may have worked up a back story for the women they portray so convincingly , but viewers don't get enough of that background for the characters to be involving as individuals rather than types .\n",
    "\n",
    "Para ambas reviews se asignaron probabilidades de manera similar, por lo que es difícil decidir a qué clase corresponde cada una. Si se decide ir con la probabilidad mayor, entonces la review 1 quedaría mal clasificada. Esto puede deberse a que la review no es muy explicativa como opinión, sino que corresponde a una pregunta retórica. \n",
    "\n",
    "Además, notar que el training accuracy siempre es mejor que el test accuracy. Esto se debe a que en el set de prueba (test) existen palabras que no están presentes en el set de etrenamiento, y el modelo no se encuentra preparado para evaluar aquellas palabras."
   ]
  },
  {
   "cell_type": "markdown",
   "metadata": {},
   "source": [
    "g) Ahora hay que crear un modelo utilizando **Multinomial naive Bayes** (MNB). A continuación se realiza el mismo procedimiento que el anterior, pero utilizando este algoritmo."
   ]
  },
  {
   "cell_type": "code",
   "execution_count": 27,
   "metadata": {
    "collapsed": false,
    "scrolled": true
   },
   "outputs": [
    {
     "name": "stdout",
     "output_type": "stream",
     "text": [
      "Lemmatization sin stop words\n",
      "\n",
      "Training Accuracy MultinomialNB: 0.959482\n",
      "Test Accuracy MultinomialNB: 0.740782\n",
      "Detailed Analysis Testing Results ...\n",
      "             precision    recall  f1-score   support\n",
      "\n",
      "          +       0.75      0.73      0.74      1803\n",
      "          -       0.73      0.75      0.74      1751\n",
      "\n",
      "avg / total       0.74      0.74      0.74      3554\n",
      "\n",
      "Muestra aleatoria del conjunto de prueba (test), con sus respectivas probabilidades de naive Bayes\n",
      "\n",
      "[ 0.39427694  0.60572306] everything about the quiet american is good , except its timing .\n",
      "\n",
      "[ 0.97961921  0.02038079] a decidedly mixed bag .\n",
      "\n",
      "[ 0.93331519  0.06668481] it almost plays like solaris , but with guns and jokes .\n",
      "\n",
      "[ 0.95755788  0.04244212] earnest but heavy-handed .\n",
      "\n",
      "[ 0.20430725  0.79569275] a miraculous movie , i'm going home is so slight , yet overflows with wisdom and emotion .\n",
      "\n",
      "Lemmatization con stop words\n",
      "\n",
      "Training Accuracy MultinomialNB: 0.955543\n",
      "Test Accuracy MultinomialNB: 0.747537\n",
      "Detailed Analysis Testing Results ...\n",
      "             precision    recall  f1-score   support\n",
      "\n",
      "          +       0.75      0.75      0.75      1803\n",
      "          -       0.74      0.74      0.74      1751\n",
      "\n",
      "avg / total       0.75      0.75      0.75      3554\n",
      "\n",
      "\n",
      "Stemming sin stop words\n",
      "\n",
      "Training Accuracy MultinomialNB: 0.942319\n",
      "Test Accuracy MultinomialNB: 0.749789\n",
      "Detailed Analysis Testing Results ...\n",
      "             precision    recall  f1-score   support\n",
      "\n",
      "          +       0.76      0.75      0.75      1803\n",
      "          -       0.74      0.75      0.75      1751\n",
      "\n",
      "avg / total       0.75      0.75      0.75      3554\n",
      "\n",
      "\n",
      "Stemming con stop words\n",
      "\n",
      "Training Accuracy MultinomialNB: 0.940630\n",
      "Test Accuracy MultinomialNB: 0.759921\n",
      "Detailed Analysis Testing Results ...\n",
      "             precision    recall  f1-score   support\n",
      "\n",
      "          +       0.76      0.77      0.76      1803\n",
      "          -       0.76      0.75      0.76      1751\n",
      "\n",
      "avg / total       0.76      0.76      0.76      3554\n",
      "\n"
     ]
    }
   ],
   "source": [
    "from sklearn.naive_bayes import MultinomialNB\n",
    "\n",
    "def do_MULTINOMIAL(x,y,xt,yt):\n",
    "    model = MultinomialNB()\n",
    "    model = model.fit(x, y)\n",
    "    score_the_model(model,x,y,xt,yt,\"MultinomialNB\")\n",
    "    return model\n",
    "\n",
    "print \"Lemmatization sin stop words\\n\"\n",
    "\n",
    "features_train, labels_train, features_test, labels_test = vectorial(modo='lemmatization')\n",
    "model = do_MULTINOMIAL(features_train, labels_train, features_test, labels_test)\n",
    "print \"Muestra aleatoria del conjunto de prueba (test), con sus respectivas probabilidades de naive Bayes\\n\"\n",
    "test_pred = model.predict_proba(features_test)\n",
    "spl = random.sample(xrange(len(test_pred)), 5)\n",
    "for text, sentiment in zip(test_df.Text[spl], test_pred[spl]):\n",
    "    print sentiment, text\n",
    "\n",
    "print \"Lemmatization con stop words\\n\"\n",
    "\n",
    "features_train, labels_train, features_test, labels_test = vectorial(modo='lemmatization', del_stopwords=False)\n",
    "model = do_MULTINOMIAL(features_train, labels_train, features_test, labels_test)\n",
    "    \n",
    "print \"\\nStemming sin stop words\\n\"\n",
    "\n",
    "features_train, labels_train, features_test, labels_test = vectorial(modo='stemming', del_stopwords=True)\n",
    "model = do_MULTINOMIAL(features_train, labels_train, features_test, labels_test)\n",
    "\n",
    "print \"\\nStemming con stop words\\n\"\n",
    "\n",
    "features_train, labels_train, features_test, labels_test = vectorial(modo='stemming', del_stopwords=False)\n",
    "model = do_MULTINOMIAL(features_train, labels_train, features_test, labels_test)"
   ]
  },
  {
   "cell_type": "markdown",
   "metadata": {},
   "source": [
    "### Resumen de los resultados anteriores para Multinomial naive Bayes :\n",
    "\n",
    "|                   | Lemmatization sin stop words | Lemmatization con stop words | Stemming sin stop words | Stemming con stop words |\n",
    "|:-----------------:|:----------------------------:|:----------------------------:|:-----------------------:|:-----------------------:|\n",
    "| Training Accuracy |             0.959            |             0.956            |          0.942          |          0.941          |\n",
    "|  Testing Accuracy |             0.741            |             0.748            |          0.749          |          0.759          |\n",
    "|     Precision     |             0.740            |             0.750            |          0.750          |          0.760          |\n",
    "|       Recall      |             0.740            |             0.750            |          0.750          |          0.760          |\n",
    "|      F1-Score     |             0.740            |             0.750            |          0.750          |          0.760          |"
   ]
  },
  {
   "cell_type": "markdown",
   "metadata": {},
   "source": [
    "Al igual como sucede con Bernoulli naive Bayes, los modelos ajustados con Multinomial naive Bayes son muy similares independiente de la forma en como se procese el texto. Aún así, el método de stemming sigue siendo mejor que lemmatization.\n",
    "\n",
    "Los ejemplos aleatorios obtenidos al momento de la ejecución son los siguientes:\n",
    "\n",
    "    1. [ 0.97587476  0.02412524] the backyard battles you staged with your green plastic army men were more exciting and almost certainly made more sense .\n",
    "    2. [  1.72450066e-04   9.99827550e-01] what makes salton sea surprisingly engrossing is that caruso takes an atypically hypnotic approach to a world that's often handled in fast-edit , hopped-up fashion .\n",
    "    3. [ 0.3719863  0.6280137] . . . would be a total loss if not for two supporting performances taking place at the movie's edges .\n",
    "    4. [ 0.92753966  0.07246034] a sharp and quick documentary that is funny and pithy , while illuminating an era of theatrical comedy that , while past , really isn't .\n",
    "    5. [ 0.14197731  0.85802269] 'frailty \" starts out like a typical bible killer story , but it turns out to be significantly different ( and better ) than most films with this theme .\n",
    "\n",
    "Se puede observar claramente que las probabilidades de la opinión 4 están completamente erroneas, ya que la opinión es positiva. Las probabilidades de la opinión 3 se encuentran más cerca de 0.5 que de 1.0, lo que no es confiable ya que sería difícil decidir a cual clase pertenece. Además, esta opinión es negativa, y la probabilidad mayor corresponde a la clase positiva. El resto de las opiniones se encuentra bien."
   ]
  },
  {
   "cell_type": "markdown",
   "metadata": {},
   "source": [
    "h) Para esta parte hay que ajustar un modelo de regresión logística regularizado, utilizando la norma $l_2$. En el código del enunciado se realiza un modelo para un listado con distintos valores de regularización C, donde $C=\\frac{1}{\\lambda}$. Luego de observar como cambia el modelo para cada uno de los valores de C, se pudo ver que para los valores más grandes, el modelo tiende a sobre ajustarse (*overfitting*). En cambio, cuando C es más pequeño, el modelo tiene una regularización más fuerte. Es por esta razón que se decidió usar un parámetro de regularización C igual a 0.5. "
   ]
  },
  {
   "cell_type": "code",
   "execution_count": 28,
   "metadata": {
    "collapsed": false,
    "scrolled": true
   },
   "outputs": [
    {
     "name": "stdout",
     "output_type": "stream",
     "text": [
      "Lemmatization sin stop words\n",
      "\n",
      "Training Accuracy LOGISTIC: 0.972988\n",
      "Test Accuracy LOGISTIC: 0.725584\n",
      "Detailed Analysis Testing Results ...\n",
      "             precision    recall  f1-score   support\n",
      "\n",
      "          +       0.73      0.72      0.73      1803\n",
      "          -       0.72      0.73      0.72      1751\n",
      "\n",
      "avg / total       0.73      0.73      0.73      3554\n",
      "\n",
      "Muestra aleatoria del conjunto de prueba (test), con sus respectivas probabilidades:\n",
      "\n",
      "[ 0.82895611  0.17104389] ultimately , jane learns her place as a girl , softens up and loses some of the intensity that made her an interesting character to begin with .\n",
      "\n",
      "[ 0.44390944  0.55609056] stinks from start to finish , like a wet burlap sack of gloom .\n",
      "\n",
      "[ 0.93601007  0.06398993] mckay deflates his piece of puffery with a sour cliche and heavy doses of mean-spiritedness\n",
      "\n",
      "[ 0.22045011  0.77954989] tsai has managed to create an underplayed melodrama about family dynamics and dysfunction that harks back to the spare , unchecked heartache of yasujiro ozu .\n",
      "\n",
      "[ 0.1017992  0.8982008] this is dicaprio's best performance in anything ever , and easily the most watchable film of the year .\n",
      "\n",
      "Lemmatization con stop words\n",
      "\n",
      "Training Accuracy LOGISTIC: 0.968205\n",
      "Test Accuracy LOGISTIC: 0.732902\n",
      "Detailed Analysis Testing Results ...\n",
      "             precision    recall  f1-score   support\n",
      "\n",
      "          +       0.74      0.73      0.74      1803\n",
      "          -       0.73      0.74      0.73      1751\n",
      "\n",
      "avg / total       0.73      0.73      0.73      3554\n",
      "\n",
      "\n",
      "Stemming sin stop words\n",
      "\n",
      "Training Accuracy LOGISTIC: 0.960045\n",
      "Test Accuracy LOGISTIC: 0.737124\n",
      "Detailed Analysis Testing Results ...\n",
      "             precision    recall  f1-score   support\n",
      "\n",
      "          +       0.74      0.74      0.74      1803\n",
      "          -       0.73      0.73      0.73      1751\n",
      "\n",
      "avg / total       0.74      0.74      0.74      3554\n",
      "\n",
      "\n",
      "Stemming con stop words\n",
      "\n",
      "Training Accuracy LOGISTIC: 0.960045\n",
      "Test Accuracy LOGISTIC: 0.743034\n",
      "Detailed Analysis Testing Results ...\n",
      "             precision    recall  f1-score   support\n",
      "\n",
      "          +       0.75      0.74      0.75      1803\n",
      "          -       0.74      0.74      0.74      1751\n",
      "\n",
      "avg / total       0.74      0.74      0.74      3554\n",
      "\n"
     ]
    }
   ],
   "source": [
    "from sklearn.linear_model import LogisticRegression\n",
    "def do_LOGIT(x,y,xt,yt):\n",
    "    start_t = time.time()\n",
    "    '''Cs = [0.01,0.1,10,100,1000]\n",
    "    for C in Cs:'''\n",
    "    '''print \"Usando C= %f\"%C'''\n",
    "    model = LogisticRegression(penalty='l2',C=0.5)\n",
    "    model = model.fit(x, y)\n",
    "    score_the_model(model,x,y,xt,yt,\"LOGISTIC\")\n",
    "    return model\n",
    "        \n",
    "print \"Lemmatization sin stop words\\n\"\n",
    "\n",
    "features_train, labels_train, features_test, labels_test = vectorial(modo='lemmatization')\n",
    "model = do_LOGIT(features_train, labels_train, features_test, labels_test)  \n",
    "test_pred = model.predict_proba(features_test)\n",
    "spl = random.sample(xrange(len(test_pred)), 5)\n",
    "print \"Muestra aleatoria del conjunto de prueba (test), con sus respectivas probabilidades:\\n\"\n",
    "for text, sentiment in zip(test_df.Text[spl], test_pred[spl]):\n",
    "    print sentiment, text\n",
    "\n",
    "print \"Lemmatization con stop words\\n\"\n",
    "\n",
    "features_train, labels_train, features_test, labels_test = vectorial(modo='lemmatization', del_stopwords=False)\n",
    "model = do_LOGIT(features_train, labels_train, features_test, labels_test)\n",
    "    \n",
    "print \"\\nStemming sin stop words\\n\"\n",
    "\n",
    "features_train, labels_train, features_test, labels_test = vectorial(modo='stemming', del_stopwords=True)\n",
    "model = do_LOGIT(features_train, labels_train, features_test, labels_test)\n",
    "\n",
    "print \"\\nStemming con stop words\\n\"\n",
    "\n",
    "features_train, labels_train, features_test, labels_test = vectorial(modo='stemming', del_stopwords=False)\n",
    "model = do_LOGIT(features_train, labels_train, features_test, labels_test)\n"
   ]
  },
  {
   "cell_type": "markdown",
   "metadata": {},
   "source": [
    "### Resumen de los resultados anteriores para Logistic Regression con C=0.5 :\n",
    "\n",
    "|                   | Lemmatization sin stop words | Lemmatization con stop words | Stemming sin stop words | Stemming con stop words |\n",
    "|:-----------------:|:----------------------------:|:----------------------------:|:-----------------------:|:-----------------------:|\n",
    "| Training Accuracy |             0.973            |             0.969            |          0.960          |          0.960          |\n",
    "|  Testing Accuracy |             0.726            |             0.732            |          0.737          |          0.743          |\n",
    "|     Precision     |             0.730            |             0.730            |          0.740          |          0.740          |\n",
    "|       Recall      |             0.730            |             0.730            |          0.740          |          0.740          |\n",
    "|      F1-Score     |             0.730            |             0.730            |          0.740          |          0.740          |"
   ]
  },
  {
   "cell_type": "markdown",
   "metadata": {},
   "source": [
    "Se observa un comportamiento similar a los ajustes anteriores. Las métricas indican que el método de stemming es mejor que lemmatization. El hecho de borrar las stop words puede significar un ahorro en tiempo, pero no necesariamente sirve para obtener mejores resultados. De hecho, los resultados obtenidos con stop words son muy similares a los que se obtienen al quitar aquellas palabras.\n",
    "\n",
    "Los ejemplos aleatorios obtenidos fueron los siguientes:\n",
    "    \n",
    "    1. [ 0.72220716  0.27779284] crudup's screen presence is the one thing that holds interest in the midst of a mushy , existential exploration of why men leave their families .\n",
    "    2. [ 0.02792055  0.97207945] the best didacticism is one carried by a strong sense of humanism , and bertrand tavernier's oft-brilliant safe conduct ( \" laissez-passer \" ) wears its heart on its sleeve .\n",
    "    3. [ 0.32116462  0.67883538] it's not a classic spy-action or buddy movie , but it's entertaining enough and worth a look .\n",
    "    4. [ 0.59770433  0.40229567] steers turns in a snappy screenplay that curls at the edges ; it's so clever you want to hate it . but he somehow pulls it off .\n",
    "    5. [ 0.7361555  0.2638445] john carlen's script is full of unhappy , two-dimensional characters who are anything but compelling .\n",
    "\n",
    "Se puede observar que para la mayoría, las probabilidades de cada clase han disminuido en la decena, es decir si antes la probabilidad de una clase era > 0.8, ahora tiende a ser > 0.7. Además, si se comparan estos resultados con la clasificación real, se puede ver que la opinión 4 tiene una mayor probabilidad en la clase negativa, siendo que la opinión es positiva. Esto puede deberse a la presencia de la palabra *hate*, a pesar de que se utiliza para probar un punto positivo en la opinión."
   ]
  },
  {
   "cell_type": "markdown",
   "metadata": {},
   "source": [
    "h) Ahora hay que ajustar un modelo support vector machine lineal (Linear SVM). Para ello se usa la función LinearSVC que se encuentra dentro de la librería del mismo nombre. Aquella función recibe un parámetro de penalización C.\n",
    "Luego de probar con los valores de C dados, se decidió usar C=0.1 ya que entrega una mejor precisión (accuracy) para el dataset de prueba. Si el parámetro es más grande, entonces el modelo no se regulariza y tiende a *overfitting*. Esto se puede observar en que la precisión del set de entrenamiento es igual a 1 y la precisión del set de prueba disminuye.\n"
   ]
  },
  {
   "cell_type": "code",
   "execution_count": 29,
   "metadata": {
    "collapsed": false,
    "scrolled": true
   },
   "outputs": [
    {
     "name": "stdout",
     "output_type": "stream",
     "text": [
      "Lemmatization sin stop words\n",
      "\n",
      "El valor de C que se esta probando: 0.010000\n",
      "Training Accuracy SVM: 0.884637\n",
      "Test Accuracy SVM: 0.715170\n",
      "Detailed Analysis Testing Results ...\n",
      "             precision    recall  f1-score   support\n",
      "\n",
      "          +       0.72      0.72      0.72      1803\n",
      "          -       0.71      0.71      0.71      1751\n",
      "\n",
      "avg / total       0.72      0.72      0.72      3554\n",
      "\n",
      "El valor de C que se esta probando: 0.100000\n",
      "Training Accuracy SVM: 0.989589\n",
      "Test Accuracy SVM: 0.723614\n",
      "Detailed Analysis Testing Results ...\n",
      "             precision    recall  f1-score   support\n",
      "\n",
      "          +       0.73      0.72      0.73      1803\n",
      "          -       0.72      0.73      0.72      1751\n",
      "\n",
      "avg / total       0.72      0.72      0.72      3554\n",
      "\n",
      "El valor de C que se esta probando: 10.000000\n",
      "Training Accuracy SVM: 1.000000\n",
      "Test Accuracy SVM: 0.702786\n",
      "Detailed Analysis Testing Results ...\n",
      "             precision    recall  f1-score   support\n",
      "\n",
      "          +       0.71      0.69      0.70      1803\n",
      "          -       0.69      0.71      0.70      1751\n",
      "\n",
      "avg / total       0.70      0.70      0.70      3554\n",
      "\n",
      "El valor de C que se esta probando: 100.000000\n",
      "Training Accuracy SVM: 1.000000\n",
      "Test Accuracy SVM: 0.698565\n",
      "Detailed Analysis Testing Results ...\n",
      "             precision    recall  f1-score   support\n",
      "\n",
      "          +       0.71      0.69      0.70      1803\n",
      "          -       0.69      0.71      0.70      1751\n",
      "\n",
      "avg / total       0.70      0.70      0.70      3554\n",
      "\n",
      "El valor de C que se esta probando: 1000.000000\n",
      "Training Accuracy SVM: 1.000000\n",
      "Test Accuracy SVM: 0.697439\n",
      "Detailed Analysis Testing Results ...\n",
      "             precision    recall  f1-score   support\n",
      "\n",
      "          +       0.71      0.69      0.70      1803\n",
      "          -       0.69      0.70      0.70      1751\n",
      "\n",
      "avg / total       0.70      0.70      0.70      3554\n",
      "\n",
      "Muestra aleatoria del conjunto de prueba (test), con su prediccion:\n",
      "\n",
      "0.0 as a rumor of angels reveals itself to be a sudsy tub of supernatural hokum , not even ms . redgrave's noblest efforts can redeem it from hopeless sentimentality .\n",
      "\n",
      "1.0 the characters are complex and quirky , but entirely believable as the remarkable ensemble cast brings them to life .\n",
      "\n",
      "0.0 dramatically lackluster .\n",
      "\n",
      "0.0 mildly amusing .\n",
      "\n",
      "0.0 shatner is probably the funniest person in the film , which gives you an idea just how bad it was .\n",
      "\n",
      "Lemmatization con stop words\n",
      "\n",
      "Training Accuracy SVM: 0.987901\n",
      "Test Accuracy SVM: 0.738249\n",
      "Detailed Analysis Testing Results ...\n",
      "             precision    recall  f1-score   support\n",
      "\n",
      "          +       0.75      0.73      0.74      1803\n",
      "          -       0.73      0.75      0.74      1751\n",
      "\n",
      "avg / total       0.74      0.74      0.74      3554\n",
      "\n",
      "\n",
      "Stemming sin stop words\n",
      "\n",
      "Training Accuracy SVM: 0.981992\n",
      "Test Accuracy SVM: 0.731213\n",
      "Detailed Analysis Testing Results ...\n",
      "             precision    recall  f1-score   support\n",
      "\n",
      "          +       0.74      0.73      0.73      1803\n",
      "          -       0.73      0.73      0.73      1751\n",
      "\n",
      "avg / total       0.73      0.73      0.73      3554\n",
      "\n",
      "\n",
      "Stemming con stop words\n",
      "\n",
      "Training Accuracy SVM: 0.983399\n",
      "Test Accuracy SVM: 0.740501\n",
      "Detailed Analysis Testing Results ...\n",
      "             precision    recall  f1-score   support\n",
      "\n",
      "          +       0.75      0.74      0.74      1803\n",
      "          -       0.73      0.74      0.74      1751\n",
      "\n",
      "avg / total       0.74      0.74      0.74      3554\n",
      "\n"
     ]
    }
   ],
   "source": [
    "from sklearn.svm import LinearSVC\n",
    "def do_SVM(x,y,xt,yt,i=False):\n",
    "    Cs = [0.01,0.1,10,100,1000]\n",
    "    if i:\n",
    "        for C in Cs:\n",
    "            print \"El valor de C que se esta probando: %f\"%C\n",
    "            model = LinearSVC(C=C)\n",
    "            model = model.fit(x, y)\n",
    "            score_the_model(model,x,y,xt,yt,\"SVM\")\n",
    "    else:\n",
    "        model = LinearSVC(C=0.1)\n",
    "        model = model.fit(x, y)\n",
    "        score_the_model(model,x,y,xt,yt,\"SVM\")\n",
    "    return model\n",
    "\n",
    "print \"Lemmatization sin stop words\\n\"\n",
    "\n",
    "features_train, labels_train, features_test, labels_test = vectorial(modo='lemmatization')\n",
    "model = do_SVM(features_train,labels_train,features_test,labels_test,True)\n",
    "test_pred = model.predict(features_test)\n",
    "spl = random.sample(xrange(len(test_pred)), 5)\n",
    "print \"Muestra aleatoria del conjunto de prueba (test), con su prediccion:\\n\"\n",
    "for text, sentiment in zip(test_df.Text[spl], test_pred[spl]):\n",
    "    print sentiment, text\n",
    "\n",
    "print \"Lemmatization con stop words\\n\"\n",
    "\n",
    "features_train, labels_train, features_test, labels_test = vectorial(modo='lemmatization', del_stopwords=False)\n",
    "model = do_SVM(features_train, labels_train, features_test, labels_test)\n",
    "    \n",
    "print \"\\nStemming sin stop words\\n\"\n",
    "\n",
    "features_train, labels_train, features_test, labels_test = vectorial(modo='stemming', del_stopwords=True)\n",
    "model = do_SVM(features_train, labels_train, features_test, labels_test)\n",
    "\n",
    "print \"\\nStemming con stop words\\n\"\n",
    "\n",
    "features_train, labels_train, features_test, labels_test = vectorial(modo='stemming', del_stopwords=False)\n",
    "model = do_SVM(features_train, labels_train, features_test, labels_test)\n"
   ]
  },
  {
   "cell_type": "markdown",
   "metadata": {},
   "source": [
    "### Resumen de los resultados anteriores para SVM con C=0.1 :\n",
    "\n",
    "|                   | Lemmatization sin stop words | Lemmatization con stop words | Stemming sin stop words | Stemming con stop words |\n",
    "|:-----------------:|:----------------------------:|:----------------------------:|:-----------------------:|:-----------------------:|\n",
    "| Training Accuracy |             0.989            |             0.987            |          0.981          |          0.983          |\n",
    "|  Testing Accuracy |             0.723            |             0.738            |          0.731          |          0.741          |\n",
    "|     Precision     |             0.720            |             0.740            |          0.730          |          0.740          |\n",
    "|       Recall      |             0.720            |             0.740            |          0.730          |          0.740          |\n",
    "|      F1-Score     |             0.720            |             0.740            |          0.730          |          0.740          |"
   ]
  },
  {
   "cell_type": "markdown",
   "metadata": {},
   "source": [
    "De lo anterior se observa que las métricas obtenidas para el modelo entrenado con el texto procesado en stemming son mejores que las métricas del modelo con lemmatization.\n",
    "\n",
    "A continuación se muestran las predicciones obtenidas para un conjunto aleatorio del set de prueba:\n",
    "\n",
    "    1. 1.0 highlighted by a gritty style and an excellent cast , it's better than one might expect when you look at the list of movies starring ice-t in a major role .\n",
    "    2. 1.0 fessenden's narrative is just as much about the ownership and redefinition of myth as it is about a domestic unit finding their way to joy .\n",
    "    3. 1.0 if you collected all the moments of coherent dialogue , they still wouldn't add up to the time required to boil a four- minute egg .\n",
    "    4. 0.0 a yawn-provoking little farm melodrama .\n",
    "    5. 0.0 if you're not the target demographic . . . this movie is one long chick-flick slog .\n",
    "    \n",
    "La predicción 1 corresponde a la clase de opiniones positivas, y la predicción 0 corresponde a la predicción negativa. De las predicciones anteriores se puede observar que todas están correctamente clasificadas a excepción de la opinión número tres. Esto puede deberse a que el crítico que escribió aquella review hizo uso de sarcasmo para dar su opinión, por lo que el modelo entrenado no está preparado para predecir aquello."
   ]
  },
  {
   "cell_type": "code",
   "execution_count": 30,
   "metadata": {
    "collapsed": false,
    "scrolled": true
   },
   "outputs": [
    {
     "name": "stdout",
     "output_type": "stream",
     "text": [
      "Training Accuracy BernoulliNB: 0.938098\n",
      "Test Accuracy BernoulliNB: 0.762173\n",
      "Detailed Analysis Testing Results ...\n",
      "             precision    recall  f1-score   support\n",
      "\n",
      "          +       0.77      0.76      0.77      1803\n",
      "          -       0.76      0.76      0.76      1751\n",
      "\n",
      "avg / total       0.76      0.76      0.76      3554\n",
      "\n",
      "Training Accuracy MultinomialNB: 0.940630\n",
      "Test Accuracy MultinomialNB: 0.759921\n",
      "Detailed Analysis Testing Results ...\n",
      "             precision    recall  f1-score   support\n",
      "\n",
      "          +       0.76      0.77      0.76      1803\n",
      "          -       0.76      0.75      0.76      1751\n",
      "\n",
      "avg / total       0.76      0.76      0.76      3554\n",
      "\n",
      "Training Accuracy LOGISTIC: 0.960045\n",
      "Test Accuracy LOGISTIC: 0.743034\n",
      "Detailed Analysis Testing Results ...\n",
      "             precision    recall  f1-score   support\n",
      "\n",
      "          +       0.75      0.74      0.75      1803\n",
      "          -       0.74      0.74      0.74      1751\n",
      "\n",
      "avg / total       0.74      0.74      0.74      3554\n",
      "\n",
      "Training Accuracy SVM: 0.983399\n",
      "Test Accuracy SVM: 0.740501\n",
      "Detailed Analysis Testing Results ...\n",
      "             precision    recall  f1-score   support\n",
      "\n",
      "          +       0.75      0.74      0.74      1803\n",
      "          -       0.73      0.74      0.74      1751\n",
      "\n",
      "avg / total       0.74      0.74      0.74      3554\n",
      "\n"
     ]
    }
   ],
   "source": [
    "##Graficos\n",
    "## Todos con stemming con stop words\n",
    "features_train, labels_train, features_test, labels_test = vectorial(modo='stemming', del_stopwords=False)\n",
    "model = do_NAIVE_BAYES(features_train, labels_train, features_test, labels_test)\n",
    "features_train, labels_train, features_test, labels_test = vectorial(modo='stemming', del_stopwords=False)\n",
    "model = do_MULTINOMIAL(features_train, labels_train, features_test, labels_test)\n",
    "features_train, labels_train, features_test, labels_test = vectorial(modo='stemming', del_stopwords=False)\n",
    "model = do_LOGIT(features_train, labels_train, features_test, labels_test)\n",
    "features_train, labels_train, features_test, labels_test = vectorial(modo='stemming', del_stopwords=False)\n",
    "model = do_SVM(features_train, labels_train, features_test, labels_test)\n",
    "#al llamar a las técnicas se llenan los arreglos de score con datos"
   ]
  },
  {
   "cell_type": "code",
   "execution_count": 39,
   "metadata": {
    "collapsed": false
   },
   "outputs": [
    {
     "data": {
      "image/png": "[encoded data removed]",
      "text/plain": [
       "<matplotlib.figure.Figure at 0x15a3a0b8>"
      ]
     },
     "metadata": {},
     "output_type": "display_data"
    }
   ],
   "source": [
    "#en esta celda ya están cargados los arreglos por correr la celda anterior\n",
    "from matplotlib import pyplot as plt\n",
    "from matplotlib import colors\n",
    "\n",
    "fig,ax = plt.subplots(figsize=(10, 4), dpi=300)\n",
    "index = np.arange(4)\n",
    "bar_width = 0.15\n",
    "opacity = 1\n",
    "\n",
    "\n",
    "#accuracy test\n",
    "plt.bar(index + bar_width, [scores_NAIVE[1],scores_MULTI[1],scores_LOGIT[1],scores_SVM[1]], bar_width,\n",
    "        alpha=opacity, color='deeppink', label='Accuracy Test')\n",
    "#Precision\n",
    "plt.bar(index + 2*bar_width, [scores_NAIVE[2],scores_MULTI[2],scores_LOGIT[2],scores_SVM[2]], bar_width,\n",
    "        alpha=opacity, color='darkorchid', label='Precision')\n",
    "#Recall\n",
    "plt.bar(index + 3*bar_width, [scores_NAIVE[3],scores_MULTI[3],scores_LOGIT[3],scores_SVM[3]], bar_width,\n",
    "        alpha=opacity, color='darkgoldenrod', label='Recall')\n",
    "#F1-Score\n",
    "rects5 = plt.bar(index + 4*bar_width, [scores_NAIVE[4],scores_MULTI[4],scores_LOGIT[4],scores_SVM[4]], bar_width,\n",
    "        alpha=opacity, color='b', label='F1-Score')\n",
    "\n",
    "plt.xlabel('Metodos de Clasificacion')\n",
    "plt.ylabel('Scores')\n",
    "plt.title('Stemming con stop words')\n",
    "plt.xticks(index + bar_width*3, ('Bernoulli Naive', 'Multinomial Naive', 'Logistic Regression', 'Linear SVM'))\n",
    "ax.set_ylim([0.7,0.8])\n",
    "lgd = plt.legend(bbox_to_anchor=(1.05, 1), loc=2,fancybox=True)\n",
    "\n",
    "fig.savefig('stemming con stop.png',bbox_extra_artists=(lgd,), bbox_inches='tight')\n",
    "plt.show()\n",
    "%matplotlib inline"
   ]
  },
  {
   "cell_type": "markdown",
   "metadata": {},
   "source": [
    "Como se pudo observar en las métricas anteriormente, numéricamente las métricas son muy similares, pero al limitar el eje Y entre 0.7 y 0.8, se observa que Bernoulli naive Bayes es mejor que regresión logistica y SVM lineal. Además, se puede observar claramente lo similares que son las métricas para un mismo modelo."
   ]
  }
 ],
 "metadata": {
  "kernelspec": {
   "display_name": "Python 2",
   "language": "python",
   "name": "python2"
  },
  "language_info": {
   "codemirror_mode": {
    "name": "ipython",
    "version": 2
   },
   "file_extension": ".py",
   "mimetype": "text/x-python",
   "name": "python",
   "nbconvert_exporter": "python",
   "pygments_lexer": "ipython2",
   "version": "2.7.12"
  }
 },
 "nbformat": 4,
 "nbformat_minor": 0
}
